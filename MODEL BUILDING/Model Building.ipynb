{
 "cells": [
  {
   "cell_type": "code",
   "execution_count": 10,
   "id": "a86dcc29",
   "metadata": {},
   "outputs": [],
   "source": [
    "import pandas as pd\n",
    "from sklearn.model_selection import train_test_split\n",
    "from sklearn.linear_model import LinearRegression\n",
    "l=LinearRegression()"
   ]
  },
  {
   "cell_type": "code",
   "execution_count": 11,
   "id": "c30a090f",
   "metadata": {},
   "outputs": [],
   "source": [
    "df=pd.read_excel(r\"C:\\Users\\USER\\Downloads\\DATASET\\fuel consumption2.xlsx\")\n"
   ]
  },
  {
   "cell_type": "code",
   "execution_count": 12,
   "id": "b51b846e",
   "metadata": {},
   "outputs": [],
   "source": [
    "x=df.drop(['consume','gas_type'],axis=1)"
   ]
  },
  {
   "cell_type": "code",
   "execution_count": 13,
   "id": "f3190ad5",
   "metadata": {},
   "outputs": [],
   "source": [
    "y=df['consume']"
   ]
  },
  {
   "cell_type": "code",
   "execution_count": 14,
   "id": "bf881688",
   "metadata": {},
   "outputs": [
    {
     "data": {
      "text/plain": [
       "Index(['distance', 'speed', 'temp_inside', 'temp_outside', 'specials', 'AC',\n",
       "       'rain', 'sun', 'refill liters', 'refill gas'],\n",
       "      dtype='object')"
      ]
     },
     "execution_count": 14,
     "metadata": {},
     "output_type": "execute_result"
    }
   ],
   "source": [
    "x.columns"
   ]
  },
  {
   "cell_type": "code",
   "execution_count": 15,
   "id": "0b9fe8c5",
   "metadata": {},
   "outputs": [],
   "source": [
    "x=x.values\n",
    "y=y.values"
   ]
  },
  {
   "cell_type": "code",
   "execution_count": null,
   "id": "fe8c8d2f",
   "metadata": {},
   "outputs": [],
   "source": []
  }
 ],
 "metadata": {
  "kernelspec": {
   "display_name": "Python 3 (ipykernel)",
   "language": "python",
   "name": "python3"
  },
  "language_info": {
   "codemirror_mode": {
    "name": "ipython",
    "version": 3
   },
   "file_extension": ".py",
   "mimetype": "text/x-python",
   "name": "python",
   "nbconvert_exporter": "python",
   "pygments_lexer": "ipython3",
   "version": "3.9.12"
  }
 },
 "nbformat": 4,
 "nbformat_minor": 5
}
